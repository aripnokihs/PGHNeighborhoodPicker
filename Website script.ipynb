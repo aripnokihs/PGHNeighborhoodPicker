{
 "cells": [
  {
   "cell_type": "code",
   "execution_count": 65,
   "id": "7b6dbe22-f0a5-44ce-b8ca-9f6d9195cac7",
   "metadata": {},
   "outputs": [
    {
     "data": {
      "text/html": [
       "<style>#sk-container-id-4 {color: black;background-color: white;}#sk-container-id-4 pre{padding: 0;}#sk-container-id-4 div.sk-toggleable {background-color: white;}#sk-container-id-4 label.sk-toggleable__label {cursor: pointer;display: block;width: 100%;margin-bottom: 0;padding: 0.3em;box-sizing: border-box;text-align: center;}#sk-container-id-4 label.sk-toggleable__label-arrow:before {content: \"▸\";float: left;margin-right: 0.25em;color: #696969;}#sk-container-id-4 label.sk-toggleable__label-arrow:hover:before {color: black;}#sk-container-id-4 div.sk-estimator:hover label.sk-toggleable__label-arrow:before {color: black;}#sk-container-id-4 div.sk-toggleable__content {max-height: 0;max-width: 0;overflow: hidden;text-align: left;background-color: #f0f8ff;}#sk-container-id-4 div.sk-toggleable__content pre {margin: 0.2em;color: black;border-radius: 0.25em;background-color: #f0f8ff;}#sk-container-id-4 input.sk-toggleable__control:checked~div.sk-toggleable__content {max-height: 200px;max-width: 100%;overflow: auto;}#sk-container-id-4 input.sk-toggleable__control:checked~label.sk-toggleable__label-arrow:before {content: \"▾\";}#sk-container-id-4 div.sk-estimator input.sk-toggleable__control:checked~label.sk-toggleable__label {background-color: #d4ebff;}#sk-container-id-4 div.sk-label input.sk-toggleable__control:checked~label.sk-toggleable__label {background-color: #d4ebff;}#sk-container-id-4 input.sk-hidden--visually {border: 0;clip: rect(1px 1px 1px 1px);clip: rect(1px, 1px, 1px, 1px);height: 1px;margin: -1px;overflow: hidden;padding: 0;position: absolute;width: 1px;}#sk-container-id-4 div.sk-estimator {font-family: monospace;background-color: #f0f8ff;border: 1px dotted black;border-radius: 0.25em;box-sizing: border-box;margin-bottom: 0.5em;}#sk-container-id-4 div.sk-estimator:hover {background-color: #d4ebff;}#sk-container-id-4 div.sk-parallel-item::after {content: \"\";width: 100%;border-bottom: 1px solid gray;flex-grow: 1;}#sk-container-id-4 div.sk-label:hover label.sk-toggleable__label {background-color: #d4ebff;}#sk-container-id-4 div.sk-serial::before {content: \"\";position: absolute;border-left: 1px solid gray;box-sizing: border-box;top: 0;bottom: 0;left: 50%;z-index: 0;}#sk-container-id-4 div.sk-serial {display: flex;flex-direction: column;align-items: center;background-color: white;padding-right: 0.2em;padding-left: 0.2em;position: relative;}#sk-container-id-4 div.sk-item {position: relative;z-index: 1;}#sk-container-id-4 div.sk-parallel {display: flex;align-items: stretch;justify-content: center;background-color: white;position: relative;}#sk-container-id-4 div.sk-item::before, #sk-container-id-4 div.sk-parallel-item::before {content: \"\";position: absolute;border-left: 1px solid gray;box-sizing: border-box;top: 0;bottom: 0;left: 50%;z-index: -1;}#sk-container-id-4 div.sk-parallel-item {display: flex;flex-direction: column;z-index: 1;position: relative;background-color: white;}#sk-container-id-4 div.sk-parallel-item:first-child::after {align-self: flex-end;width: 50%;}#sk-container-id-4 div.sk-parallel-item:last-child::after {align-self: flex-start;width: 50%;}#sk-container-id-4 div.sk-parallel-item:only-child::after {width: 0;}#sk-container-id-4 div.sk-dashed-wrapped {border: 1px dashed gray;margin: 0 0.4em 0.5em 0.4em;box-sizing: border-box;padding-bottom: 0.4em;background-color: white;}#sk-container-id-4 div.sk-label label {font-family: monospace;font-weight: bold;display: inline-block;line-height: 1.2em;}#sk-container-id-4 div.sk-label-container {text-align: center;}#sk-container-id-4 div.sk-container {/* jupyter's `normalize.less` sets `[hidden] { display: none; }` but bootstrap.min.css set `[hidden] { display: none !important; }` so we also need the `!important` here to be able to override the default hidden behavior on the sphinx rendered scikit-learn.org. See: https://github.com/scikit-learn/scikit-learn/issues/21755 */display: inline-block !important;position: relative;}#sk-container-id-4 div.sk-text-repr-fallback {display: none;}</style><div id=\"sk-container-id-4\" class=\"sk-top-container\"><div class=\"sk-text-repr-fallback\"><pre>NearestNeighbors(n_neighbors=773)</pre><b>In a Jupyter environment, please rerun this cell to show the HTML representation or trust the notebook. <br />On GitHub, the HTML representation is unable to render, please try loading this page with nbviewer.org.</b></div><div class=\"sk-container\" hidden><div class=\"sk-item\"><div class=\"sk-estimator sk-toggleable\"><input class=\"sk-toggleable__control sk-hidden--visually\" id=\"sk-estimator-id-4\" type=\"checkbox\" checked><label for=\"sk-estimator-id-4\" class=\"sk-toggleable__label sk-toggleable__label-arrow\">NearestNeighbors</label><div class=\"sk-toggleable__content\"><pre>NearestNeighbors(n_neighbors=773)</pre></div></div></div></div></div>"
      ],
      "text/plain": [
       "NearestNeighbors(n_neighbors=773)"
      ]
     },
     "execution_count": 65,
     "metadata": {},
     "output_type": "execute_result"
    }
   ],
   "source": [
    "import pandas as pd\n",
    "from sklearn.neighbors import NearestNeighbors\n",
    "from sklearn.preprocessing import StandardScaler\n",
    "\n",
    "import pandas as pd\n",
    "from sklearn.neighbors import NearestNeighbors\n",
    "from sklearn.preprocessing import StandardScaler\n",
    "\n",
    "# Load the two CSV files into pandas DataFrames\n",
    "salaries_file = 'pittsburgh_rental_prices.csv'  # CSV with 'Name', 'Salary', 'Neighborhood'\n",
    "coordinates_file = 'neighborhoodzipcodes.csv'  # CSV with 'Neighborhood', 'ZipCode', 'Latitude', 'Longitude'\n",
    "\n",
    "stations_file = 'neighborhood.csv'  # CSV with 'Neighborhood', 'GasStations', 'ChargingStations'\n",
    "crime_file = 'neighborhoodcrime.csv'  # CSV with 'Neighborhood', 'CrimeRate'\n",
    "\n",
    "\n",
    "# Load each CSV\n",
    "salaries_data = pd.read_csv(salaries_file)\n",
    "coordinates_data = pd.read_csv(coordinates_file)\n",
    "stations_data = pd.read_csv(stations_file)\n",
    "crime_data = pd.read_csv(crime_file)\n",
    "\n",
    "\n",
    "# Merge data on 'Neighborhood'\n",
    "\n",
    "merged_data = pd.merge(salaries_data, coordinates_data, on='zipcode')\n",
    "merged_data = pd.merge(merged_data, stations_data, on='neighborhood')\n",
    "merged_data = pd.merge(merged_data, crime_data, on='neighborhood')\n",
    "\n",
    "\n",
    "include_stations == False \n",
    "if include_stations == True:\n",
    "    stations = 4\n",
    "if include_stations:\n",
    "    merged_data['TotalStations'] = merged_data['GasStations'] + merged_data['ChargingStations']\n",
    "    knn_data = merged_data[['Price', 'x_coordinate', 'y_coordinate', 'TotalStations', 'crimerate']]\n",
    "else:\n",
    "     knn_data = merged_data[['Price', 'x_coordinate', 'y_coordinate', 'crimerate']]\n",
    "# Extract relevant columns for KNN: 'Salary', 'Latitude', 'Longitude', 'GasStations', 'ChargingStations'\n",
    "\n",
    "\n",
    "# Standardize the features for better KNN performance\n",
    "scaler = StandardScaler()\n",
    "knn_data_scaled = scaler.fit_transform(knn_data)\n",
    "\n",
    "# Initialize and fit KNN model using the features\n",
    "knn = NearestNeighbors(n_neighbors=len(knn_data))  # Set n_neighbors to include all neighborhoods\n",
    "knn.fit(knn_data_scaled)\n",
    "\n",
    "# Suppose you want to find similarities to a neighborhood with:\n",
    "# Salary of $50,000 and coordinates (40.4406, -79.9959)\n"
   ]
  },
  {
   "cell_type": "code",
   "execution_count": 66,
   "id": "1cef7739-386f-4c91-9336-9598849927b0",
   "metadata": {},
   "outputs": [
    {
     "name": "stdout",
     "output_type": "stream",
     "text": [
      "(40.4510923, -79.9262839)\n"
     ]
    }
   ],
   "source": [
    "coordinates_file = 'neighborhoodzipcodes.csv'  # CSV with 'Neighborhood', 'ZipCode', 'Latitude', 'Longitude'\n",
    "coordinates_data = pd.read_csv(coordinates_file)\n",
    "\n",
    "def get_coordinates(neighborhood_name):\n",
    "    # Search for the neighborhood in the DataFrame\n",
    "    neighborhood_info = coordinates_data[coordinates_data['neighborhood'] == neighborhood_name]\n",
    "    \n",
    "    if not neighborhood_info.empty:\n",
    "        # Extract latitude and longitude\n",
    "        latitude = neighborhood_info['x_coordinate'].values[0]\n",
    "        longitude = neighborhood_info['y_coordinate'].values[0]\n",
    "        return (latitude, longitude)\n",
    "    else:\n",
    "        return None  # Neighborhood not found\n",
    "\n",
    "# Example usage\n",
    "neighborhood_name = 'Shadyside'  # Replace with the neighborhood you want to search for\n",
    "coordinates = get_coordinates(neighborhood_name)\n",
    "print(coordinates)"
   ]
  },
  {
   "cell_type": "code",
   "execution_count": 68,
   "id": "7f1ab872-1131-492d-92aa-cea5ca6b7612",
   "metadata": {},
   "outputs": [
    {
     "name": "stdout",
     "output_type": "stream",
     "text": [
      "Chateau\n",
      "{'Perry North': 0.0, 'California-Kirkbride': 0.08065759918880747, 'Manchester': 0.08928090093439492, 'St. Clair': 0.12320733634432564, 'Upper Lawrenceville': 0.12450900342782403, 'Homewood West': 0.16110993336218632, 'Polish Hill': 0.1669295275878436, 'Knoxville': 0.1703155717981011, 'Homewood South': 0.18454594014821368, 'Summer Hill': 0.22342825869242364, 'West Oakland': 0.22396998359216772, 'Central Lawrenceville': 0.24475060702342966, 'Elliott': 0.24604020287610037, 'Fineview': 0.24729290771711382, 'East Allegheny': 0.2513845966257149, 'Perry South': 0.2574914331464067, 'Brookline': 0.2577744641101346, 'Sheraden': 0.25975513158679764, 'Central Northside': 0.26742937426294794, 'North Oakland': 0.26842789603666845, 'Crafton Heights': 0.2701586996491265, 'Marshall-Shadeland': 0.27369408552485314, 'Lower Lawrenceville': 0.273854134455814, 'Strip District': 0.2766430337684703, 'Swisshelm Park': 0.27797302853976213, 'Beltzhoover': 0.2832754065780393, 'Allentown': 0.286216695792658, 'Windgap': 0.28801587089363817, 'South Oakland': 0.2886516284600363, 'Chartiers City': 0.2889953185877228, 'Esplen': 0.2969174459083868, 'Westwood': 0.3000726557468664, 'Terrace Village': 0.30302892385214675, 'Central Oakland': 0.3036411182633048, 'Allegheny West': 0.30489997511094036, 'Mt. Oliver': 0.3051457005694046, 'Arlington Heights': 0.30674223205014034, 'Allegheny Center': 0.30756568744022905, 'Banksville': 0.3081061898013307, 'Beechview': 0.3081760920123462, 'Oakwood': 0.3082129679444783, 'Arlington': 0.3082695214549741, 'Greenfield': 0.3108213057955628, 'Point Breeze': 0.3114011593104526, 'Ridgemont': 0.3124881598868201, 'North Shore': 0.31436702320169274, 'Central Business District': 0.31481650357305335, 'Bluff': 0.3150089328790417, 'Middle Hill': 0.315342306491717, 'Fairywood': 0.315474916924429, 'Crawford-Roberts': 0.318147717154989, 'Upper Hill': 0.31927189349107304, 'Bedford Dwellings': 0.32030143455903703, 'Brighton Heights': 0.32059536122986937, 'Point Breeze North': 0.3247434506878121, 'Troy Hill': 0.3263184721129868, 'Mount Washington': 0.3295468357713554, 'East Liberty': 0.3297814715659787, 'Northview Heights': 0.33229527343981163, 'Overbrook': 0.33389343992206233, 'Highland Park': 0.3392646836143414, 'New Homestead': 0.3410108894678291, 'East Carnegie': 0.3444444463897165, 'Larimer': 0.3470482444147999, 'Homewood North': 0.3475084590987631, 'Morningside': 0.34867490104707183, 'Friendship': 0.3496738554330086, 'Squirrel Hill South': 0.35898497636399346, 'Squirrel Hill North': 0.3600451990766605, 'Stanton Heights': 0.36565131354149477, 'Garfield': 0.37103342918602344, 'Carrick': 0.3759437782663142, 'Bloomfield': 0.37726586565131304, 'Lincoln-Lemington-Belmar': 0.3945517510578169, 'Glen Hazel': 0.4052340301742787, 'Hays': 0.4120070202914682, 'Hazelwood': 0.41240986612734176, 'Lincoln Place': 0.41803519204423767, 'Regent Square': 0.4485549352798865, 'Spring Garden': 0.517864634327784, 'South Side Slopes': 0.5215257622484454, 'South Side Flats': 0.5218312162257438, 'Chateau': 1.0}\n"
     ]
    },
    {
     "name": "stderr",
     "output_type": "stream",
     "text": [
      "/opt/anaconda3/lib/python3.11/site-packages/sklearn/base.py:439: UserWarning: X does not have valid feature names, but StandardScaler was fitted with feature names\n",
      "  warnings.warn(\n"
     ]
    }
   ],
   "source": [
    "Salary = 50000\n",
    "rime = 10\n",
    "rent = Salary/4\n",
    "print(neighborhood)\n",
    "coordinates = get_coordinates(neighborhood)\n",
    "coord = []\n",
    "for i in coordinates:\n",
    "    coord.append(i)\n",
    "\n",
    "new_neighborhood = [[rent, coord[0], coord[1], crime]]  # Total of gas and charging stations\n",
    "new_neighborhood_scaled = scaler.transform(new_neighborhood)\n",
    "\n",
    "# Compute the similarity (distance) between the new neighborhood and all others\n",
    "distances, indices = knn.kneighbors(new_neighborhood_scaled, n_neighbors=len(knn_data))\n",
    "\n",
    "# Create a dictionary for neighborhoods with their similarity (distance) values\n",
    "similarity_dict = {}\n",
    "\n",
    "for i in range(len(indices[0])):\n",
    "    neighborhood = merged_data.iloc[indices[0][i]]['neighborhood']\n",
    "    similarity_score = distances[0][i]  # Lower values indicate more similar\n",
    "    similarity_dict[neighborhood] = similarity_score\n",
    "\n",
    "# Normalize the similarity scores using Min-Max normalization\n",
    "min_score = min(similarity_dict.values())\n",
    "max_score = max(similarity_dict.values())\n",
    "\n",
    "normalized_similarity_dict = {neighborhood: (score - min_score) / (max_score - min_score) \n",
    "                              for neighborhood, score in similarity_dict.items()}\n",
    "\n",
    "# Sort the dictionary by normalized similarity score\n",
    "normalized_similarity_dict_sorted = dict(sorted(normalized_similarity_dict.items(), key=lambda item: item[1]))\n",
    "\n",
    "# Display the results as a normalized dictionary\n",
    "print(normalized_similarity_dict_sorted)\n"
   ]
  },
  {
   "cell_type": "code",
   "execution_count": null,
   "id": "4c17cf52-2734-4996-8769-c36253d36e2a",
   "metadata": {},
   "outputs": [],
   "source": []
  },
  {
   "cell_type": "code",
   "execution_count": null,
   "id": "cc257c30-3048-43a9-9d67-1aca37a97fc8",
   "metadata": {},
   "outputs": [],
   "source": []
  },
  {
   "cell_type": "code",
   "execution_count": null,
   "id": "f276c2dd-51d3-4a83-b73a-ceb87ae64ea9",
   "metadata": {},
   "outputs": [],
   "source": []
  }
 ],
 "metadata": {
  "kernelspec": {
   "display_name": "Python 3 (ipykernel)",
   "language": "python",
   "name": "python3"
  },
  "language_info": {
   "codemirror_mode": {
    "name": "ipython",
    "version": 3
   },
   "file_extension": ".py",
   "mimetype": "text/x-python",
   "name": "python",
   "nbconvert_exporter": "python",
   "pygments_lexer": "ipython3",
   "version": "3.11.7"
  }
 },
 "nbformat": 4,
 "nbformat_minor": 5
}
